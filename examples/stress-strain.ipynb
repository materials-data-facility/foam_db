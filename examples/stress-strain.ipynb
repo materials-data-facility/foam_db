{
 "cells": [
  {
   "cell_type": "code",
   "execution_count": 29,
   "id": "405a6261-2cb4-49cd-b14d-0518b18946b9",
   "metadata": {},
   "outputs": [],
   "source": [
    "import matplotlib.pyplot as plt\n",
    "import seaborn as sns\n",
    "import requests\n",
    "import h5py"
   ]
  },
  {
   "cell_type": "markdown",
   "id": "b7d10e47-ef40-47ba-8b6b-c543107e7d38",
   "metadata": {},
   "source": [
    "## Dataset\n",
    "https://doi.org/10.18126/6h74-leb4\n",
    "\n",
    "## Direct Globus Link\n",
    "https://app.globus.org/file-manager?origin_id=82f1b5c6-6e9b-11e5-ba47-22000b92c6ec&origin_path=/mdf_open/foam_db_v1.1/"
   ]
  },
  {
   "cell_type": "markdown",
   "id": "57bd0353-c924-4784-8585-efea6960654c",
   "metadata": {
    "tags": []
   },
   "source": [
    "# Fetch Stress-Strain and Other DIC Data\n",
    "To fetch other files, navigate to the MDF dataset, click the file and then the \"Get Link\" button."
   ]
  },
  {
   "cell_type": "code",
   "execution_count": 67,
   "id": "ef844638-4e5b-412d-b6b5-0488609b1901",
   "metadata": {},
   "outputs": [],
   "source": [
    "data_location = 'https://data.materialsdatafacility.org/mdf_open/foam_db_v1.1/quasistatic_rate_data/VN01/VN01_001_003_QS06_00/VN01_001_003_QS06_00_dic.mat'\n",
    "dest = \"./VN01_001_003_QS06_00_dic.mat\""
   ]
  },
  {
   "cell_type": "code",
   "execution_count": 27,
   "id": "44967f27-546b-49aa-8f73-891748450207",
   "metadata": {},
   "outputs": [
    {
     "data": {
      "text/plain": [
       "258170946"
      ]
     },
     "execution_count": 27,
     "metadata": {},
     "output_type": "execute_result"
    }
   ],
   "source": [
    "r = requests.get(data_location)\n",
    "open(dest , 'wb+').write(r.content)\n",
    "data = h5py.File(dest)"
   ]
  },
  {
   "cell_type": "markdown",
   "id": "f4dedc0b-86ef-4492-aa16-ef2f8a972cb9",
   "metadata": {},
   "source": [
    "# Show Dataset Items"
   ]
  },
  {
   "cell_type": "code",
   "execution_count": 63,
   "id": "ebf3f4d6-6f4d-4710-ad36-fc84570614ad",
   "metadata": {},
   "outputs": [
    {
     "data": {
      "text/plain": [
       "[('E', <HDF5 dataset \"E\": shape (2, 435), type \"<f8\">),\n",
       " ('F', <HDF5 dataset \"F\": shape (435, 1), type \"|O\">),\n",
       " ('area', <HDF5 dataset \"area\": shape (2, 1), type \"<f8\">),\n",
       " ('disp', <HDF5 dataset \"disp\": shape (435, 1), type \"<f8\">),\n",
       " ('dm', <HDF5 dataset \"dm\": shape (1, 1), type \"<f8\">),\n",
       " ('e', <HDF5 dataset \"e\": shape (2, 435), type \"<f8\">),\n",
       " ('eng_strain', <HDF5 dataset \"eng_strain\": shape (435, 1), type \"<f8\">),\n",
       " ('eng_stress', <HDF5 dataset \"eng_stress\": shape (435, 1), type \"<f8\">),\n",
       " ('force', <HDF5 dataset \"force\": shape (435, 1), type \"<f8\">),\n",
       " ('gridPoints', <HDF5 dataset \"gridPoints\": shape (2, 1), type \"|O\">),\n",
       " ('height', <HDF5 dataset \"height\": shape (2, 1), type \"<f8\">),\n",
       " ('px2m', <HDF5 dataset \"px2m\": shape (1, 1), type \"<f8\">),\n",
       " ('reporting_table',\n",
       "  <HDF5 group \"/complete_data/reporting_table\" (17 members)>),\n",
       " ('save_loc', <HDF5 dataset \"save_loc\": shape (180, 1), type \"<u2\">),\n",
       " ('time', <HDF5 dataset \"time\": shape (435, 1), type \"<f8\">),\n",
       " ('u_inc', <HDF5 dataset \"u_inc\": shape (1, 435), type \"|O\">),\n",
       " ('u_total', <HDF5 dataset \"u_total\": shape (435, 1), type \"|O\">)]"
      ]
     },
     "execution_count": 63,
     "metadata": {},
     "output_type": "execute_result"
    }
   ],
   "source": [
    "list(data['complete_data'].items())"
   ]
  },
  {
   "cell_type": "markdown",
   "id": "52da61d3-9c4d-45b7-a6a9-e03db8f1081a",
   "metadata": {},
   "source": [
    "# Load the Engineering Stress and Axial Strain"
   ]
  },
  {
   "cell_type": "code",
   "execution_count": 64,
   "id": "ed99ce72-604b-443c-b604-d2150d8361e3",
   "metadata": {},
   "outputs": [],
   "source": [
    "eng_stress = data['complete_data']['eng_stress']\n",
    "strain = data['complete_data']['E'][1, :]"
   ]
  },
  {
   "cell_type": "code",
   "execution_count": 79,
   "id": "e3b66a36-7ee7-4ec3-bc08-67721ad3a911",
   "metadata": {},
   "outputs": [
    {
     "data": {
      "image/png": "[encoded data removed]",
      "text/plain": [
       "<Figure size 432x288 with 1 Axes>"
      ]
     },
     "metadata": {
      "needs_background": "light"
     },
     "output_type": "display_data"
    }
   ],
   "source": [
    "fig = plt.figure()\n",
    "\n",
    "ax = plt.scatter(strain, eng_stress, s=10, alpha=0.5)\n",
    "\n",
    "plt.xlabel(\"Axial Strain\")\n",
    "plt.ylabel(\"Axial Stress\")\n",
    "sns.despine()\n",
    "plt.show()\n"
   ]
  },
  {
   "cell_type": "code",
   "execution_count": null,
   "id": "5fdd9f9f-7325-42de-ae1a-f1231b0b9294",
   "metadata": {},
   "outputs": [],
   "source": []
  }
 ],
 "metadata": {
  "kernelspec": {
   "display_name": "Python 3",
   "language": "python",
   "name": "python3"
  },
  "language_info": {
   "codemirror_mode": {
    "name": "ipython",
    "version": 3
   },
   "file_extension": ".py",
   "mimetype": "text/x-python",
   "name": "python",
   "nbconvert_exporter": "python",
   "pygments_lexer": "ipython3",
   "version": "3.9.1"
  }
 },
 "nbformat": 4,
 "nbformat_minor": 5
}
